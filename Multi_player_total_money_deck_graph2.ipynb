{
 "cells": [
  {
   "cell_type": "code",
   "execution_count": 1,
   "metadata": {},
   "outputs": [],
   "source": [
    "# Import numpy and matplotlib\n",
    "import matplotlib.pyplot as plt\n",
    "import numpy as np"
   ]
  },
  {
   "cell_type": "code",
   "execution_count": 2,
   "metadata": {},
   "outputs": [],
   "source": [
    "# Function to parse each line in txt file into numpy array.  Input is a file path to the txt file\n",
    "def text_gen(file):\n",
    "    # Open and separate text into array\n",
    "    text = open(file)\n",
    "    text_contents = text.read()\n",
    "    sep_text = np.array(text_contents.splitlines())\n",
    "    return np.array(sep_text)"
   ]
  },
  {
   "cell_type": "code",
   "execution_count": 3,
   "metadata": {},
   "outputs": [
    {
     "data": {
      "text/plain": [
       "array(['', 'Game #56525448, unrated.', '',\n",
       "       'Kingdom generated with these relative percentages:',\n",
       "       \"0%: Possession, Mastermind, Keep, Trade, Philosopher's Stone, Swindler, Delve and Fool's Gold\",\n",
       "       '50%: Way of the Mouse, Invest, Crop Rotation, Doctor, Silk Road, Road Network, Transmute, Tax and Venture',\n",
       "       '', 'u starts with 7 Coppers.', 'u starts with 3 Estates.',\n",
       "       'L starts with 7 Coppers.', 'L starts with 3 Estates.',\n",
       "       'u shuffles their deck.', 'u draws 3 Coppers and 2 Estates.',\n",
       "       'L shuffles their deck.', 'L draws 5 cards.', '',\n",
       "       'Turn 1 - uiop119', 'u plays 3 Coppers. (+$3)',\n",
       "       'u buys and gains a Goatherd.', 'u draws 4 Coppers and an Estate.',\n",
       "       '', 'Turn 1 - Lord Rattington', 'L plays 4 Coppers. (+$4)',\n",
       "       'L buys and gains a Patron.', 'L draws 5 cards.', '',\n",
       "       'Turn 2 - uiop119', 'u plays 4 Coppers. (+$4)',\n",
       "       'u buys and gains a Patron.', 'u shuffles their deck.',\n",
       "       'u draws 3 Coppers, an Estate and a Goatherd.', '',\n",
       "       'Turn 2 - Lord Rattington', 'L plays 3 Coppers. (+$3)',\n",
       "       'L buys and gains a Silver.', 'L shuffles their deck.',\n",
       "       'L draws 5 cards.', '', 'Turn 3 - uiop119', 'u plays a Goatherd.',\n",
       "       'u gets +1 Action.', 'u trashes an Estate.',\n",
       "       'u plays 3 Coppers. (+$3)', 'u buys and gains a Silver.',\n",
       "       'u draws 3 Coppers, an Estate and a Patron.', '',\n",
       "       'Turn 3 - Lord Rattington', 'L plays 5 Coppers. (+$5)',\n",
       "       'L buys and gains a Sanctuary.', 'L draws 5 cards.', '',\n",
       "       'Turn 4 - uiop119', 'u plays a Patron.', 'u gets +1 Villager.',\n",
       "       'u gets +$2.', 'u plays 3 Coppers. (+$3)',\n",
       "       'u buys and gains a Sanctuary.', 'u shuffles their deck.',\n",
       "       'u draws 2 Coppers, a Silver, an Estate and a Patron.', '',\n",
       "       'Turn 4 - Lord Rattington', 'L plays a Patron.',\n",
       "       'L gets +1 Villager.', 'L gets +$2.', 'L plays a Silver. (+$2)',\n",
       "       'L buys and gains a Patron.', 'L shuffles their deck.',\n",
       "       'L draws 5 cards.', '', 'Turn 5 - uiop119', 'u plays a Patron.',\n",
       "       'u gets +1 Villager.', 'u gets +$2.',\n",
       "       'u plays 2 Coppers and a Silver. (+$4)',\n",
       "       'u buys and gains a Barge.',\n",
       "       'u draws 3 Coppers, a Goatherd and a Sanctuary.', '',\n",
       "       'Turn 5 - Lord Rattington',\n",
       "       'L plays 3 Coppers and a Silver. (+$5)',\n",
       "       'L buys and gains a Barge.', 'L draws 5 cards.', '',\n",
       "       'Turn 6 - uiop119', 'u plays a Sanctuary.', 'u draws a Copper.',\n",
       "       'u gets +1 Action.', 'u gets +1 Buy.', 'u exiles a Copper.',\n",
       "       'u plays a Goatherd.', 'u gets +1 Action.', 'u trashes a Copper.',\n",
       "       'u plays 2 Coppers. (+$2)', 'u buys and gains a Lighthouse.',\n",
       "       'u shuffles their deck.',\n",
       "       'u draws a Copper, 2 Estates, a Patron and a Goatherd.', '',\n",
       "       'Turn 6 - Lord Rattington', 'L plays a Sanctuary.',\n",
       "       'L draws a card.', 'L gets +1 Action.', 'L gets +1 Buy.',\n",
       "       'L exiles an Estate.', 'L plays a Patron.', 'L gets +1 Villager.',\n",
       "       'L gets +$2.', 'L uses 1 Villager.', 'L plays a Patron.',\n",
       "       'L gets +1 Villager.', 'L gets +$2.', 'L plays a Copper. (+$1)',\n",
       "       'L buys and gains a Sanctuary.', 'L shuffles their deck.',\n",
       "       'L draws 5 cards.', '', 'Turn 7 - uiop119', 'u plays a Goatherd.',\n",
       "       'u gets +1 Action.', 'u trashes an Estate.', 'u plays a Patron.',\n",
       "       'u gets +1 Villager.', 'u gets +$2.', 'u plays a Copper. (+$1)',\n",
       "       'u buys and gains a Silver.',\n",
       "       'u draws 3 Coppers, a Silver and a Barge.', '',\n",
       "       'Turn 7 - Lord Rattington',\n",
       "       'L plays 3 Coppers and a Silver. (+$5)',\n",
       "       'L buys and gains a Barge.', 'L draws 5 cards.', '',\n",
       "       'Turn 8 - uiop119', 'u plays a Barge.',\n",
       "       'u plays 3 Coppers and a Silver. (+$5)',\n",
       "       'u buys and gains a Barge.', 'u shuffles their deck.',\n",
       "       'u draws 2 Coppers, a Silver, a Lighthouse and a Sanctuary.', '',\n",
       "       'Turn 8 - Lord Rattington', 'L plays a Sanctuary.',\n",
       "       'L draws a card.', 'L gets +1 Action.', 'L gets +1 Buy.',\n",
       "       'L exiles a Copper.', 'L plays a Sanctuary.', 'L draws a card.',\n",
       "       'L gets +1 Action.', 'L gets +1 Buy.', 'L exiles an Estate.',\n",
       "       'L plays a Patron.', 'L gets +1 Villager.', 'L gets +$2.',\n",
       "       'L uses 1 Villager.', 'L plays a Patron.', 'L gets +1 Villager.',\n",
       "       'L gets +$2.', 'L plays a Copper. (+$1)',\n",
       "       'L buys and gains a Barge.', 'L shuffles their deck.',\n",
       "       'L draws 5 cards.', '', 'Turn 9 - uiop119', 'u starts their turn.',\n",
       "       'u draws 2 Coppers and a Goatherd.', 'u gets +1 Buy.',\n",
       "       'u plays a Sanctuary.', 'u draws a Silver.', 'u gets +1 Action.',\n",
       "       'u gets +1 Buy.', 'u exiles a Copper.', 'u plays a Lighthouse.',\n",
       "       'u gets +1 Action.', 'u gets +$1.', 'u plays a Goatherd.',\n",
       "       'u gets +1 Action.', 'u trashes a Copper.',\n",
       "       'u plays 2 Coppers and 2 Silvers. (+$6)',\n",
       "       'u buys and gains a Barge.', 'u buys and gains a Lighthouse.',\n",
       "       'u shuffles their deck.',\n",
       "       'u draws a Copper, an Estate, a Lighthouse, a Patron and a Barge.',\n",
       "       '', 'Turn 9 - Lord Rattington', 'L plays a Barge.',\n",
       "       'L draws 3 cards.', 'L gets +1 Buy.', 'L uses 1 Villager.',\n",
       "       'L plays a Sanctuary.', 'L draws a card.', 'L gets +1 Action.',\n",
       "       'L gets +1 Buy.', 'L exiles a Copper.',\n",
       "       'L plays 3 Coppers and a Silver. (+$5)',\n",
       "       'L buys and gains a Laboratory.', 'L buys Delay.',\n",
       "       'L sets a Patron aside.', 'L buys Delay.',\n",
       "       'L sets a Patron aside.', 'L draws 5 cards.', '',\n",
       "       'Turn 10 - uiop119', 'u starts their turn.', 'u gets +$1.',\n",
       "       'u plays a Barge.', 'u draws a Copper, a Silver and a Barge.',\n",
       "       'u gets +1 Buy.', 'u uses 1 Villager.', 'u plays a Barge.',\n",
       "       'u draws a Silver, a Goatherd and a Sanctuary.', 'u gets +1 Buy.',\n",
       "       'u uses 1 Villager.', 'u plays a Sanctuary.', 'u draws a Barge.',\n",
       "       'u gets +1 Action.', 'u gets +1 Buy.', 'u exiles an Estate.',\n",
       "       'u plays a Lighthouse.', 'u gets +1 Action.', 'u gets +$1.',\n",
       "       'u plays a Goatherd.', 'u gets +1 Action.', 'u trashes a Copper.',\n",
       "       'u plays a Patron.', 'u gets +1 Villager.', 'u gets +$2.',\n",
       "       'u uses 1 Villager.', 'u plays a Barge.', 'u draws a Copper.',\n",
       "       'u gets +1 Buy.', 'u plays 2 Coppers and 2 Silvers. (+$6)',\n",
       "       'u buys a Windfall.', 'u gains 3 Golds.',\n",
       "       'u buys and gains a Laboratory.', 'u shuffles their deck.',\n",
       "       'u draws a Copper, a Gold, a Patron, a Barge and a Sanctuary.', '',\n",
       "       'Turn 10 - Lord Rattington', 'L starts their turn.',\n",
       "       'L plays a Patron. (Delay)', 'L gets +1 Villager.', 'L gets +$2.',\n",
       "       'L plays a Patron. (Delay)', 'L gets +1 Villager.', 'L gets +$2.',\n",
       "       'L plays a Barge.', 'L shuffles their deck.', 'L draws 3 cards.',\n",
       "       'L gets +1 Buy.', 'L uses 1 Villager.', 'L plays a Sanctuary.',\n",
       "       'L draws a card.', 'L gets +1 Action.', 'L gets +1 Buy.',\n",
       "       'L exiles an Estate.', 'L plays a Sanctuary.', 'L draws a card.',\n",
       "       'L gets +1 Action.', 'L gets +1 Buy.', 'L plays a Barge.',\n",
       "       'L draws 3 cards.', 'L gets +1 Buy.',\n",
       "       'L plays 5 Coppers and a Silver. (+$7)', 'L buys a Windfall.',\n",
       "       'L gains 3 Golds.', 'L buys Delay.', 'L sets a Laboratory aside.',\n",
       "       'L buys Delay.', 'L sets a Barge aside.',\n",
       "       'L buys and gains a Laboratory.', 'L shuffles their deck.',\n",
       "       'L draws 5 cards.', '', 'Turn 11 - uiop119',\n",
       "       'u starts their turn.', 'u gets +$1.', 'u plays a Sanctuary.',\n",
       "       'u draws a Goatherd.', 'u gets +1 Action.', 'u gets +1 Buy.',\n",
       "       'u exiles a Goatherd.', 'u plays a Barge.',\n",
       "       'u draws a Copper, a Gold and a Barge.', 'u gets +1 Buy.',\n",
       "       'u uses 1 Villager.', 'u plays a Patron.', 'u gets +1 Villager.',\n",
       "       'u gets +$2.', 'u uses 1 Villager.', 'u plays a Barge.',\n",
       "       'u draws a Laboratory, a Lighthouse and a Barge.',\n",
       "       'u gets +1 Buy.', 'u plays 2 Golds and 2 Coppers. (+$8)',\n",
       "       'u buys Delay.', 'u sets a Barge aside.', 'u buys Delay.',\n",
       "       'u sets a Laboratory aside.', 'u buys and gains 2 Laboratories.',\n",
       "       'u shuffles their deck.',\n",
       "       'u draws 2 Silvers, 2 Golds and a Lighthouse.', '',\n",
       "       'Turn 11 - Lord Rattington', 'L starts their turn.',\n",
       "       'L plays a Laboratory. (Delay)', 'L draws 2 cards.',\n",
       "       'L gets +1 Action.', 'L plays a Barge. (Delay)',\n",
       "       'L draws 3 cards.', 'L gets +1 Buy.', 'L plays a Sanctuary.',\n",
       "       'L draws a card.', 'L gets +1 Action.', 'L gets +1 Buy.',\n",
       "       'L exiles a Copper.', 'L plays a Barge.', 'L draws 3 cards.',\n",
       "       'L gets +1 Buy.', 'L plays a Sanctuary.', 'L draws a card.',\n",
       "       'L gets +1 Action.', 'L gets +1 Buy.', 'L exiles a Copper.',\n",
       "       'L plays a Patron.', 'L gets +1 Villager.', 'L gets +$2.',\n",
       "       'L uses 1 Villager.', 'L plays a Patron.', 'L gets +1 Villager.',\n",
       "       'L gets +$2.', 'L uses 1 Villager.', 'L plays a Laboratory.',\n",
       "       'L draws a card.', 'L gets +1 Action.', 'L plays a Barge.',\n",
       "       'L plays 3 Golds, 3 Coppers and a Silver. (+$14)',\n",
       "       'L buys a Windfall.', 'L gains 3 Golds.',\n",
       "       'L buys and gains a Laboratory.', 'L buys and gains a Province.',\n",
       "       'L shuffles their deck.', 'L draws 5 cards.', '',\n",
       "       'Turn 12 - uiop119', 'u starts their turn.',\n",
       "       'u plays a Laboratory. (Delay)', 'u draws a Copper and a Gold.',\n",
       "       'u gets +1 Action.', 'u plays a Barge. (Delay)',\n",
       "       'u draws a Laboratory, a Lighthouse and a Barge.',\n",
       "       'u gets +1 Buy.', 'u plays a Laboratory.',\n",
       "       'u draws a Copper and a Laboratory.', 'u gets +1 Action.',\n",
       "       'u plays a Laboratory.', 'u draws a Patron and a Barge.',\n",
       "       'u gets +1 Action.', 'u plays a Lighthouse.', 'u gets +1 Action.',\n",
       "       'u gets +$1.', 'u plays a Lighthouse.', 'u gets +1 Action.',\n",
       "       'u gets +$1.', 'u plays a Barge.', 'u draws a Sanctuary.',\n",
       "       'u gets +1 Buy.', 'u plays a Sanctuary.', 'u gets +1 Action.',\n",
       "       'u gets +1 Buy.', 'u exiles a Copper.', 'u plays a Patron.',\n",
       "       'u gets +1 Villager.', 'u gets +$2.',\n",
       "       'u plays 3 Golds, a Copper and 2 Silvers. (+$14)',\n",
       "       'u buys a Windfall.', 'u gains 3 Golds.', 'u buys Delay.',\n",
       "       'u sets a Barge aside.', 'u buys and gains a Province.',\n",
       "       'u buys and gains a Laboratory.', 'u shuffles their deck.',\n",
       "       'u draws a Silver, 2 Golds, a Laboratory and a Patron.', '',\n",
       "       'Turn 12 - Lord Rattington', 'L starts their turn.',\n",
       "       'L draws 3 cards.', 'L gets +1 Buy.', 'L plays a Laboratory.',\n",
       "       'L draws 2 cards.', 'L gets +1 Action.', 'L plays a Laboratory.',\n",
       "       'L draws 2 cards.', 'L gets +1 Action.', 'L plays a Laboratory.',\n",
       "       'L draws 2 cards.', 'L gets +1 Action.', 'L plays a Barge.',\n",
       "       'L draws 3 cards.', 'L gets +1 Buy.', 'L uses 1 Villager.',\n",
       "       'L plays a Sanctuary.', 'L draws a card.', 'L gets +1 Action.',\n",
       "       'L gets +1 Buy.', 'L exiles a Province.', 'L plays a Patron.',\n",
       "       'L gets +1 Villager.', 'L gets +$2.',\n",
       "       'L plays 6 Golds, 3 Coppers and a Silver. (+$23)', 'L buys Delay.',\n",
       "       'L sets a Barge aside.', 'L buys and gains 3 Provinces.',\n",
       "       'L shuffles their deck.', 'L draws 5 cards.', '',\n",
       "       'Turn 13 - uiop119', 'u starts their turn.', 'u gets +$2.',\n",
       "       'u plays a Barge. (Delay)',\n",
       "       'u draws a Silver, a Gold and a Sanctuary.', 'u gets +1 Buy.',\n",
       "       'u plays a Laboratory.', 'u draws a Gold and a Province.',\n",
       "       'u gets +1 Action.', 'u plays a Sanctuary.', 'u draws a Gold.',\n",
       "       'u gets +1 Action.', 'u gets +1 Buy.', 'u exiles a Province.',\n",
       "       'u plays a Patron.', 'u gets +1 Villager.', 'u gets +$2.',\n",
       "       'u plays 5 Golds and 2 Silvers. (+$19)',\n",
       "       'u buys and gains a Province.', 'u buys and gains 2 Duchies.',\n",
       "       'u draws a Copper, 2 Laboratories and 2 Barges.', '',\n",
       "       'Turn 13 - Lord Rattington', 'L starts their turn.',\n",
       "       'L plays a Barge. (Delay)', 'L draws 3 cards.', 'L gets +1 Buy.',\n",
       "       'L plays a Laboratory.', 'L draws 2 cards.', 'L gets +1 Action.',\n",
       "       'L plays a Laboratory.', 'L draws 2 cards.', 'L gets +1 Action.',\n",
       "       'L plays a Sanctuary.', 'L draws a card.', 'L gets +1 Action.',\n",
       "       'L gets +1 Buy.', 'L exiles a Province.', 'L plays a Barge.',\n",
       "       'L draws 3 cards.', 'L gets +1 Buy.', 'L uses 1 Villager.',\n",
       "       'L plays a Laboratory.', 'L draws 2 cards.', 'L gets +1 Action.',\n",
       "       'L plays a Patron.', 'L gets +1 Villager.', 'L gets +$2.',\n",
       "       'L uses 1 Villager.', 'L plays a Patron.', 'L gets +1 Villager.',\n",
       "       'L gets +$2.', 'L plays 4 Golds and 3 Coppers. (+$15)',\n",
       "       'L buys and gains 2 Provinces.', 'L buys and gains an Estate.',\n",
       "       'L shuffles their deck.', 'L draws 5 cards.'], dtype='<U105')"
      ]
     },
     "execution_count": 3,
     "metadata": {},
     "output_type": "execute_result"
    }
   ],
   "source": [
    "# Testing the text array function\n",
    "t = \"C:/Users/matthew.meers/Desktop/test_game_1.txt\"\n",
    "text_gen(t)\n"
   ]
  },
  {
   "cell_type": "code",
   "execution_count": 6,
   "metadata": {},
   "outputs": [],
   "source": [
    "# Input player abbreviation and text array, output index array\n",
    "def index_array(pn, t_array):\n",
    "    # Create array which will have the index in the text array where a player starts their turn.\n",
    "    # n keeps track of the index in the text array\n",
    "    index = np.array([])\n",
    "    n = 0\n",
    "    # Loop through the text array to search for the start of a players turn\n",
    "    for i in t_array:\n",
    "        if \"- %s\" % (pn) in i:\n",
    "            index = np.append(index,n)\n",
    "        n = n+1 \n",
    "    return np.array(index)"
   ]
  },
  {
   "cell_type": "code",
   "execution_count": 7,
   "metadata": {},
   "outputs": [
    {
     "data": {
      "text/plain": [
       "array([ 21.,  32.,  46.,  60.,  77.,  96., 125., 137., 181., 235., 299.,\n",
       "       380., 434.])"
      ]
     },
     "execution_count": 7,
     "metadata": {},
     "output_type": "execute_result"
    }
   ],
   "source": [
    "# Testing the index array\n",
    "index_array(\"L\",text_gen(t))"
   ]
  },
  {
   "cell_type": "code",
   "execution_count": 8,
   "metadata": {},
   "outputs": [],
   "source": [
    "# Input player abbreviation and text array, output turn array\n",
    "def turn_array(pn, t_array):\n",
    "    # Create array which will keep track of the turn number\n",
    "    # k keeps track of the turn number\n",
    "    turn = np.array([])\n",
    "    k = 0\n",
    "    for i in t_array:\n",
    "        # Loop through the text array to search for the start of a players turn.\n",
    "        if \"- %s\" % (pn) in i:\n",
    "            # k only increses if the the player is starting their turn\n",
    "            k = k + 1\n",
    "            turn = np.append(turn, k)\n",
    "    return np.array(turn)"
   ]
  },
  {
   "cell_type": "code",
   "execution_count": 9,
   "metadata": {},
   "outputs": [
    {
     "data": {
      "text/plain": [
       "array([ 1.,  2.,  3.,  4.,  5.,  6.,  7.,  8.,  9., 10., 11., 12., 13.])"
      ]
     },
     "execution_count": 9,
     "metadata": {},
     "output_type": "execute_result"
    }
   ],
   "source": [
    "# Testing the turn array\n",
    "turn_array(\"L\",text_gen(t))"
   ]
  },
  {
   "cell_type": "code",
   "execution_count": 10,
   "metadata": {},
   "outputs": [],
   "source": [
    "# Input index array and text array, output money array\n",
    "def money_array(pn,index, t_array):\n",
    "    # Array which keeps track of total money in a single player's deck.  Players start with a total of 7.\n",
    "    money = np.array([7.0])\n",
    "    # p is keeping track of where the loop is in the index array. \n",
    "    # Adjacent entries in the index array correspond to a single game round where each player takes a turn\n",
    "    p=0\n",
    "    while p < len(index)-1:\n",
    "        # turn_total keeps track of total money gained this turn\n",
    "        turn_total = 0\n",
    "        # Checks text array for gains of copper, silver, and gold only on a single game round \n",
    "        #(via adjacent entries in the index array)\n",
    "        for i in t_array[np.int(index[p]):np.int(index[p+1])]:\n",
    "            # Check if line in text is null. If it is ignore it, if not use it to check for player name and treasure\n",
    "            if i != \"\":\n",
    "                # Checks the first letter of the text line for the player you are trying to track money for\n",
    "                if i[0] == \"%s\" % (pn):\n",
    "                    if \"gains a Silver\" in i:\n",
    "                        turn_total = turn_total +2\n",
    "                    elif \"gains a Gold\" in i:\n",
    "                        turn_total = turn_total +3\n",
    "                    elif \"gains a Copper\" in i:\n",
    "                        turn_total = turn_total +1\n",
    "        p = p + 1\n",
    "        # Add the amount of money gained this turn to the total money in the deck before this turn.  Append it to the money array\n",
    "        money = np.append(money,money[len(money)-1]+turn_total)\n",
    "    return np.array(money)"
   ]
  },
  {
   "cell_type": "code",
   "execution_count": 11,
   "metadata": {},
   "outputs": [
    {
     "data": {
      "text/plain": [
       "array([ 7.,  7.,  7.,  9.,  9.,  9.,  9., 11., 11., 11., 11., 11., 11.])"
      ]
     },
     "execution_count": 11,
     "metadata": {},
     "output_type": "execute_result"
    }
   ],
   "source": [
    "# Testing the money array\n",
    "money_array(\"u\",index_array(\"u\",text_gen(t)),text_gen(t))"
   ]
  },
  {
   "cell_type": "code",
   "execution_count": 12,
   "metadata": {},
   "outputs": [],
   "source": [
    "# Input player abbreviation and filepath, output plot of total money vs turn number\n",
    "def money_graph(pn, file):\n",
    "    # Make the index and turn arrays\n",
    "    index = index_array(pn,text_gen(file))\n",
    "    turn = turn_array(pn,text_gen(file))\n",
    "    # Making array for total deck money starting with the $7 coppers on turn 0\n",
    "    money = money_array(pn,index,text_gen(file))\n",
    "    # Make the plot with labels\n",
    "    a = plt.step(turn,money)\n",
    "    plt.xlabel(\"Turn number\")\n",
    "    plt.ylabel(\"Total Money in Deck\")\n",
    "    plt.style.use('default')\n",
    "    return a"
   ]
  },
  {
   "cell_type": "code",
   "execution_count": 13,
   "metadata": {},
   "outputs": [
    {
     "data": {
      "text/plain": [
       "[<matplotlib.lines.Line2D at 0x1a5639e5880>]"
      ]
     },
     "execution_count": 13,
     "metadata": {},
     "output_type": "execute_result"
    },
    {
     "data": {
      "image/png": "[encoded data removed]",
      "text/plain": [
       "<Figure size 432x288 with 1 Axes>"
      ]
     },
     "metadata": {
      "needs_background": "light"
     },
     "output_type": "display_data"
    }
   ],
   "source": [
    "# Testing the total money vs turn number graph\n",
    "money_graph(\"u\",t)"
   ]
  },
  {
   "cell_type": "code",
   "execution_count": 14,
   "metadata": {},
   "outputs": [],
   "source": [
    "# Input a list of player abbreviations and text file.  Output total money vs turn graph for each player on one plot.\n",
    "def multi_player_money_graph(player_array,file):\n",
    "    # Looping through each player\n",
    "    for i in player_array:\n",
    "        money_graph(i,file)\n",
    "    plt.legend(player_array)"
   ]
  },
  {
   "cell_type": "code",
   "execution_count": 29,
   "metadata": {},
   "outputs": [
    {
     "data": {
      "image/png": "[encoded data removed]",
      "text/plain": [
       "<Figure size 640x480 with 1 Axes>"
      ]
     },
     "metadata": {},
     "output_type": "display_data"
    }
   ],
   "source": [
    "# Testing the multiplayer money graph\n",
    "multi_player_money_graph([\"u\",\"L\"],t)"
   ]
  },
  {
   "cell_type": "code",
   "execution_count": 30,
   "metadata": {},
   "outputs": [],
   "source": [
    "# Now I would like to be able to plot total deck size as a funciton of turn #.\n",
    "# We can already parse the text into each game round so all we have to do is look for \"gain\" in each round and check who gained the card\n",
    "text = text_gen(t)\n",
    "# This will be an array of the index in the text where gains occur\n",
    "gain = np.array([])\n",
    "n = 0\n",
    "for i in text:\n",
    "    if \"gains\" in i:\n",
    "        gain = np.append(gain, n)\n",
    "    n = n+1"
   ]
  },
  {
   "cell_type": "code",
   "execution_count": 31,
   "metadata": {},
   "outputs": [
    {
     "data": {
      "text/plain": [
       "array([ 18.,  23.,  28.,  34.,  43.,  48.,  56.,  65.,  74.,  79.,  92.,\n",
       "       110., 122., 127., 133., 156., 176., 177., 192., 230., 231., 262.,\n",
       "       267., 295., 334., 335., 336., 372., 375., 376., 408., 430., 431.,\n",
       "       465., 466.])"
      ]
     },
     "execution_count": 31,
     "metadata": {},
     "output_type": "execute_result"
    }
   ],
   "source": [
    "# Testing the gain index array\n",
    "gain"
   ]
  },
  {
   "cell_type": "code",
   "execution_count": 32,
   "metadata": {},
   "outputs": [],
   "source": [
    "# Putting the above cell in a funciton.  Input is text file, output is lines/index where gains occur in the text\n",
    "def gain_index(text):\n",
    "    txt = text_gen(text)\n",
    "    gain = np.array([])\n",
    "    n = 0 \n",
    "    for i in txt:\n",
    "        if \"gains\" in i:\n",
    "            gain = np.append(gain,n)\n",
    "        n = n + 1\n",
    "    return gain"
   ]
  },
  {
   "cell_type": "code",
   "execution_count": 33,
   "metadata": {},
   "outputs": [
    {
     "name": "stdout",
     "output_type": "stream",
     "text": [
      "u buys and gains a Goatherd.\n",
      "L buys and gains a Patron.\n",
      "u buys and gains a Patron.\n",
      "L buys and gains a Silver.\n",
      "u buys and gains a Silver.\n",
      "L buys and gains a Sanctuary.\n",
      "u buys and gains a Sanctuary.\n",
      "L buys and gains a Patron.\n",
      "u buys and gains a Barge.\n",
      "L buys and gains a Barge.\n",
      "u buys and gains a Lighthouse.\n",
      "L buys and gains a Sanctuary.\n",
      "u buys and gains a Silver.\n",
      "L buys and gains a Barge.\n",
      "u buys and gains a Barge.\n",
      "L buys and gains a Barge.\n",
      "u buys and gains a Barge.\n",
      "u buys and gains a Lighthouse.\n",
      "L buys and gains a Laboratory.\n",
      "u gains 3 Golds.\n",
      "u buys and gains a Laboratory.\n",
      "L gains 3 Golds.\n",
      "L buys and gains a Laboratory.\n",
      "u buys and gains 2 Laboratories.\n",
      "L gains 3 Golds.\n",
      "L buys and gains a Laboratory.\n",
      "L buys and gains a Province.\n",
      "u gains 3 Golds.\n",
      "u buys and gains a Province.\n",
      "u buys and gains a Laboratory.\n",
      "L buys and gains 3 Provinces.\n",
      "u buys and gains a Province.\n",
      "u buys and gains 2 Duchies.\n",
      "L buys and gains 2 Provinces.\n",
      "L buys and gains an Estate.\n"
     ]
    }
   ],
   "source": [
    "# Testing the gain_index function\n",
    "a = np.array(gain_index(t))\n",
    "for i in a:\n",
    "    print(text_gen(t)[np.int(i)])"
   ]
  },
  {
   "cell_type": "code",
   "execution_count": 40,
   "metadata": {},
   "outputs": [],
   "source": [
    "# Input player abbreviation, index array, and text array. Output total deck size array\n",
    "def deck_size_array(pn,index, t_array):\n",
    "    deck = np.array([10.0])\n",
    "    # p is keeping track of where the loop is in the index array. \n",
    "    # Adjacent entries in the index array correspond to a single game round where each player takes a turn \n",
    "    p=0\n",
    "    while p < len(index)-1:\n",
    "        # turn_total keeps track of total cards gained this turn\n",
    "        turn_total = 0\n",
    "        # Checks text array for gains and trashes only on a single game round \n",
    "        #(via adjacent entries in the index array)\n",
    "        for i in t_array[np.int(index[p]):np.int(index[p+1])]:\n",
    "            # Check if line in text is null. If it is ignore it, if not use it to check for player name and gains/trashing\n",
    "            if i != \"\":\n",
    "                # Check the first letter of the text line for the player you are trying to track deck size for\n",
    "                if i[0] == \"%s\" % (pn):\n",
    "                    # Change the total number of cards gained or lost in this turn based on the text in the game log\n",
    "                    if \"gains a\" in i:\n",
    "                        turn_total = turn_total +1\n",
    "                    elif \"gains 2\" in i:\n",
    "                        turn_total = turn_total +2\n",
    "                    elif \"gains 3\" in i:\n",
    "                        turn_total = turn_total +3\n",
    "                    elif \"trashes an\" in i:\n",
    "                        turn_total = turn_total - 1\n",
    "                    elif \"trashes 2\" in i:\n",
    "                        turn_total = turn_total - 2\n",
    "                    elif \"trashes 3\" in i:\n",
    "                        turn_total = turn_total - 3\n",
    "        p = p + 1\n",
    "        # Add the amount of cards gained/lost this turn to the total amount of cards in the deck before this turn.\n",
    "        # Append it to the deck size array\n",
    "        deck = np.append(deck,deck[len(deck)-1]+turn_total)\n",
    "    return np.array(deck)"
   ]
  },
  {
   "cell_type": "code",
   "execution_count": 41,
   "metadata": {},
   "outputs": [
    {
     "data": {
      "text/plain": [
       "array([10., 11., 12., 12., 13., 14., 15., 15., 16., 18., 22., 24., 29.])"
      ]
     },
     "execution_count": 41,
     "metadata": {},
     "output_type": "execute_result"
    }
   ],
   "source": [
    "# Testing total deck size array function\n",
    "deck_size_array(\"u\",index_array(\"u\",text_gen(t)),text_gen(t))"
   ]
  },
  {
   "cell_type": "code",
   "execution_count": 42,
   "metadata": {},
   "outputs": [],
   "source": [
    "# Final product for deck size\n",
    "def deck_graph(pn, file):\n",
    "    # Make the index and turn arrays\n",
    "    index = index_array(pn,text_gen(file))\n",
    "    turn = turn_array(pn,text_gen(file))\n",
    "    # Making array for total deck size starting with the 10 cards on turn 0\n",
    "    size = deck_size_array(pn,index,text_gen(file))\n",
    "    a = plt.step(turn,size)\n",
    "    plt.xlabel(\"Turn number\")\n",
    "    plt.ylabel(\"Total Cards in Deck\")\n",
    "    return a"
   ]
  },
  {
   "cell_type": "code",
   "execution_count": 43,
   "metadata": {},
   "outputs": [
    {
     "data": {
      "text/plain": [
       "[<matplotlib.lines.Line2D at 0x1a563f4f1c0>]"
      ]
     },
     "execution_count": 43,
     "metadata": {},
     "output_type": "execute_result"
    },
    {
     "data": {
      "image/png": "[encoded data removed]",
      "text/plain": [
       "<Figure size 640x480 with 1 Axes>"
      ]
     },
     "metadata": {},
     "output_type": "display_data"
    }
   ],
   "source": [
    "# Testing deck size vs turn number function\n",
    "deck_graph(\"u\",t)"
   ]
  },
  {
   "cell_type": "code",
   "execution_count": 44,
   "metadata": {},
   "outputs": [],
   "source": [
    "# Deck size graph for multiple players\n",
    "def multi_player_deck_graph(player_array,file):\n",
    "    a = player_array\n",
    "    for i in a:\n",
    "        deck_graph(i,file)\n",
    "    plt.legend(player_array)"
   ]
  },
  {
   "cell_type": "code",
   "execution_count": 45,
   "metadata": {},
   "outputs": [
    {
     "data": {
      "image/png": "[encoded data removed]",
      "text/plain": [
       "<Figure size 640x480 with 1 Axes>"
      ]
     },
     "metadata": {},
     "output_type": "display_data"
    }
   ],
   "source": [
    "# Testing multiplayer deck size vs turn number graph\n",
    "multi_player_deck_graph([\"u\",\"L\"],t)"
   ]
  },
  {
   "cell_type": "code",
   "execution_count": null,
   "metadata": {},
   "outputs": [],
   "source": []
  }
 ],
 "metadata": {
  "kernelspec": {
   "display_name": "Python 3",
   "language": "python",
   "name": "python3"
  },
  "language_info": {
   "codemirror_mode": {
    "name": "ipython",
    "version": 3
   },
   "file_extension": ".py",
   "mimetype": "text/x-python",
   "name": "python",
   "nbconvert_exporter": "python",
   "pygments_lexer": "ipython3",
   "version": "3.8.5"
  }
 },
 "nbformat": 4,
 "nbformat_minor": 4
}
